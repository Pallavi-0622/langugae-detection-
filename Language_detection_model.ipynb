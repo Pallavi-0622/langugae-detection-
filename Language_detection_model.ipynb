{
  "nbformat": 4,
  "nbformat_minor": 0,
  "metadata": {
    "colab": {
      "provenance": []
    },
    "kernelspec": {
      "name": "python3",
      "display_name": "Python 3"
    },
    "language_info": {
      "name": "python"
    }
  },
  "cells": [
    {
      "cell_type": "markdown",
      "source": [
        "**Step1**: Import all the libaries"
      ],
      "metadata": {
        "id": "4ROzCdH8Vado"
      }
    },
    {
      "cell_type": "code",
      "source": [
        "import pandas as pd                               #used for data framework\n",
        "import seaborn as sns                             #It is similar to matplotlib for data visualization but it provides high level interface for drawing attractive and informative statistical graphics, also handles complex data structures like dataframes\n",
        "import matplotlib.pyplot as plt                   # used for data visualization\n",
        "import re                                         #(Regular Expression) it is used to find and match characters and strings, also allows powerful search.\n",
        "import nltk                                       #(Natural Language toolkit) it is used for working with human language data(text).\n",
        "nltk.download('stopwords')                        # Stopwords are common words like(the,is,in,etc..) which have no meaning and can remove and focus on nouns & verbs\n",
        "from nltk.corpus import stopwords                    # after downlaod to access stopword need to import\n",
        "from sklearn.feature_extraction.text import CountVectorizer   #(sklearnfeatureextraction) is a module where CountVectorizer is imported to convert the text document into metrix token counts.\n",
        "from sklearn.model_selection import train_test_split     #(from sklearnmodelselection) is a module where train_test_split funtion is imported which is mainly used in machine learning ,it is used to divide dataset in to training and testing subset.\n",
        "from sklearn.naive_bayes import MultinomialNB            #(naivebayes)is used to pridict the class object and  MultinomialNB is a popular classification algorithm used for text classification\n",
        "from sklearn.linear_model import LogisticRegression      #Logistic Regression is a widely used algorithm for binary and multiclass classification tasks.\n",
        "from nltk.tokenize import RegexpTokenizer                # is a tokenizer that splits text into tokens using regular expressions, which allows you to have more control over how the text is split.\n"
      ],
      "metadata": {
        "id": "JVg0kSnBVm-8"
      },
      "execution_count": null,
      "outputs": []
    },
    {
      "cell_type": "markdown",
      "source": [
        "Step2: setting the setpwords"
      ],
      "metadata": {
        "id": "Js42oWcpbcE9"
      }
    },
    {
      "cell_type": "code",
      "source": [
        "stopwords=set(stopwords.words('english'))\n",
        "regexp=RegexpTokenizer('\\w+')"
      ],
      "metadata": {
        "id": "a87QVNdKbg37"
      },
      "execution_count": null,
      "outputs": []
    },
    {
      "cell_type": "code",
      "source": [
        "df=pd.read_csv('/Language Detection.csv')"
      ],
      "metadata": {
        "id": "LzCQLckOYXwY"
      },
      "execution_count": null,
      "outputs": []
    },
    {
      "cell_type": "code",
      "source": [
        "df.head()"
      ],
      "metadata": {
        "id": "GAAlhvEuaJb9"
      },
      "execution_count": null,
      "outputs": []
    },
    {
      "cell_type": "code",
      "source": [
        "df.info()"
      ],
      "metadata": {
        "colab": {
          "base_uri": "https://localhost:8080/",
          "height": 141
        },
        "id": "MUaJ-bXqaTMY",
        "outputId": "e5beabde-0962-40fc-93d5-e781264ec697"
      },
      "execution_count": null,
      "outputs": [
        {
          "output_type": "error",
          "ename": "NameError",
          "evalue": "name 'df' is not defined",
          "traceback": [
            "\u001b[0;31m---------------------------------------------------------------------------\u001b[0m",
            "\u001b[0;31mNameError\u001b[0m                                 Traceback (most recent call last)",
            "\u001b[0;32m<ipython-input-6-a74c58233b9e>\u001b[0m in \u001b[0;36m<cell line: 1>\u001b[0;34m()\u001b[0m\n\u001b[0;32m----> 1\u001b[0;31m \u001b[0mdf\u001b[0m\u001b[0;34m.\u001b[0m\u001b[0minfo\u001b[0m\u001b[0;34m(\u001b[0m\u001b[0;34m)\u001b[0m\u001b[0;34m\u001b[0m\u001b[0;34m\u001b[0m\u001b[0m\n\u001b[0m",
            "\u001b[0;31mNameError\u001b[0m: name 'df' is not defined"
          ]
        }
      ]
    },
    {
      "cell_type": "code",
      "source": [
        "df.isnull().sum() #is there any null values or not"
      ],
      "metadata": {
        "colab": {
          "base_uri": "https://localhost:8080/",
          "height": 147
        },
        "id": "xuewNMgnabhV",
        "outputId": "e726f715-10a0-43a8-ef42-79a8555e91e3"
      },
      "execution_count": null,
      "outputs": [
        {
          "output_type": "execute_result",
          "data": {
            "text/plain": [
              "Text        0\n",
              "Language    0\n",
              "dtype: int64"
            ],
            "text/html": [
              "<div>\n",
              "<style scoped>\n",
              "    .dataframe tbody tr th:only-of-type {\n",
              "        vertical-align: middle;\n",
              "    }\n",
              "\n",
              "    .dataframe tbody tr th {\n",
              "        vertical-align: top;\n",
              "    }\n",
              "\n",
              "    .dataframe thead th {\n",
              "        text-align: right;\n",
              "    }\n",
              "</style>\n",
              "<table border=\"1\" class=\"dataframe\">\n",
              "  <thead>\n",
              "    <tr style=\"text-align: right;\">\n",
              "      <th></th>\n",
              "      <th>0</th>\n",
              "    </tr>\n",
              "  </thead>\n",
              "  <tbody>\n",
              "    <tr>\n",
              "      <th>Text</th>\n",
              "      <td>0</td>\n",
              "    </tr>\n",
              "    <tr>\n",
              "      <th>Language</th>\n",
              "      <td>0</td>\n",
              "    </tr>\n",
              "  </tbody>\n",
              "</table>\n",
              "</div><br><label><b>dtype:</b> int64</label>"
            ]
          },
          "metadata": {},
          "execution_count": 9
        }
      ]
    },
    {
      "cell_type": "code",
      "source": [
        "df.shape #see the no rows and cols"
      ],
      "metadata": {
        "colab": {
          "base_uri": "https://localhost:8080/"
        },
        "id": "NCxGAsXzaln7",
        "outputId": "ea0e29c7-fa6b-416e-ff45-4efb1e14d10d"
      },
      "execution_count": null,
      "outputs": [
        {
          "output_type": "execute_result",
          "data": {
            "text/plain": [
              "(10337, 2)"
            ]
          },
          "metadata": {},
          "execution_count": 10
        }
      ]
    },
    {
      "cell_type": "code",
      "source": [
        "df['Language'].unique() #unique values in language column"
      ],
      "metadata": {
        "colab": {
          "base_uri": "https://localhost:8080/"
        },
        "id": "2J1_s7Wfa7Gm",
        "outputId": "3f35a7c9-c620-4b65-d20e-1fc9c94ebd17"
      },
      "execution_count": null,
      "outputs": [
        {
          "output_type": "execute_result",
          "data": {
            "text/plain": [
              "array(['English', 'Malayalam', 'Hindi', 'Tamil', 'Portugeese', 'French',\n",
              "       'Dutch', 'Spanish', 'Greek', 'Russian', 'Danish', 'Italian',\n",
              "       'Turkish', 'Sweedish', 'Arabic', 'German', 'Kannada'], dtype=object)"
            ]
          },
          "metadata": {},
          "execution_count": 11
        }
      ]
    },
    {
      "cell_type": "code",
      "source": [
        "df['Language'].nunique() #count of unique values in language column and there are 17 language"
      ],
      "metadata": {
        "colab": {
          "base_uri": "https://localhost:8080/"
        },
        "id": "icc5_YlDbGin",
        "outputId": "9162efc4-60e4-447b-92a9-0b6ec80c1429"
      },
      "execution_count": null,
      "outputs": [
        {
          "output_type": "execute_result",
          "data": {
            "text/plain": [
              "17"
            ]
          },
          "metadata": {},
          "execution_count": 13
        }
      ]
    },
    {
      "cell_type": "code",
      "source": [
        "plt.figure(figsize=(10,10))\n",
        "sns.countplot(data=df,x='Language')     #to see the count of each languages\n",
        "plt.xticks(rotation=90);"
      ],
      "metadata": {
        "colab": {
          "base_uri": "https://localhost:8080/",
          "height": 914
        },
        "id": "pkkVXdmfbdq8",
        "outputId": "c91a865e-3552-4ed6-a1d7-16307f27131f"
      },
      "execution_count": null,
      "outputs": [
        {
          "output_type": "display_data",
          "data": {
            "text/plain": [
              "<Figure size 1000x1000 with 1 Axes>"
            ],
            "image/png": "[encoded data removed]"
          },
          "metadata": {}
        }
      ]
    },
    {
      "cell_type": "code",
      "source": [
        "df['Language'].value_counts() #to see the count of each languages"
      ],
      "metadata": {
        "colab": {
          "base_uri": "https://localhost:8080/",
          "height": 648
        },
        "id": "5ecYZH_mfhJe",
        "outputId": "581934ef-9037-45eb-ecea-bb45887a7e45"
      },
      "execution_count": null,
      "outputs": [
        {
          "output_type": "execute_result",
          "data": {
            "text/plain": [
              "Language\n",
              "English       1385\n",
              "French        1014\n",
              "Spanish        819\n",
              "Portugeese     739\n",
              "Italian        698\n",
              "Russian        692\n",
              "Sweedish       676\n",
              "Malayalam      594\n",
              "Dutch          546\n",
              "Arabic         536\n",
              "Turkish        474\n",
              "German         470\n",
              "Tamil          469\n",
              "Danish         428\n",
              "Kannada        369\n",
              "Greek          365\n",
              "Hindi           63\n",
              "Name: count, dtype: int64"
            ],
            "text/html": [
              "<div>\n",
              "<style scoped>\n",
              "    .dataframe tbody tr th:only-of-type {\n",
              "        vertical-align: middle;\n",
              "    }\n",
              "\n",
              "    .dataframe tbody tr th {\n",
              "        vertical-align: top;\n",
              "    }\n",
              "\n",
              "    .dataframe thead th {\n",
              "        text-align: right;\n",
              "    }\n",
              "</style>\n",
              "<table border=\"1\" class=\"dataframe\">\n",
              "  <thead>\n",
              "    <tr style=\"text-align: right;\">\n",
              "      <th></th>\n",
              "      <th>count</th>\n",
              "    </tr>\n",
              "    <tr>\n",
              "      <th>Language</th>\n",
              "      <th></th>\n",
              "    </tr>\n",
              "  </thead>\n",
              "  <tbody>\n",
              "    <tr>\n",
              "      <th>English</th>\n",
              "      <td>1385</td>\n",
              "    </tr>\n",
              "    <tr>\n",
              "      <th>French</th>\n",
              "      <td>1014</td>\n",
              "    </tr>\n",
              "    <tr>\n",
              "      <th>Spanish</th>\n",
              "      <td>819</td>\n",
              "    </tr>\n",
              "    <tr>\n",
              "      <th>Portugeese</th>\n",
              "      <td>739</td>\n",
              "    </tr>\n",
              "    <tr>\n",
              "      <th>Italian</th>\n",
              "      <td>698</td>\n",
              "    </tr>\n",
              "    <tr>\n",
              "      <th>Russian</th>\n",
              "      <td>692</td>\n",
              "    </tr>\n",
              "    <tr>\n",
              "      <th>Sweedish</th>\n",
              "      <td>676</td>\n",
              "    </tr>\n",
              "    <tr>\n",
              "      <th>Malayalam</th>\n",
              "      <td>594</td>\n",
              "    </tr>\n",
              "    <tr>\n",
              "      <th>Dutch</th>\n",
              "      <td>546</td>\n",
              "    </tr>\n",
              "    <tr>\n",
              "      <th>Arabic</th>\n",
              "      <td>536</td>\n",
              "    </tr>\n",
              "    <tr>\n",
              "      <th>Turkish</th>\n",
              "      <td>474</td>\n",
              "    </tr>\n",
              "    <tr>\n",
              "      <th>German</th>\n",
              "      <td>470</td>\n",
              "    </tr>\n",
              "    <tr>\n",
              "      <th>Tamil</th>\n",
              "      <td>469</td>\n",
              "    </tr>\n",
              "    <tr>\n",
              "      <th>Danish</th>\n",
              "      <td>428</td>\n",
              "    </tr>\n",
              "    <tr>\n",
              "      <th>Kannada</th>\n",
              "      <td>369</td>\n",
              "    </tr>\n",
              "    <tr>\n",
              "      <th>Greek</th>\n",
              "      <td>365</td>\n",
              "    </tr>\n",
              "    <tr>\n",
              "      <th>Hindi</th>\n",
              "      <td>63</td>\n",
              "    </tr>\n",
              "  </tbody>\n",
              "</table>\n",
              "</div><br><label><b>dtype:</b> int64</label>"
            ]
          },
          "metadata": {},
          "execution_count": 19
        }
      ]
    },
    {
      "cell_type": "markdown",
      "source": [
        "Note: the english has the higest count so the chalange is to make all the languages balanced .\n",
        "\n",
        "so we need to convert balanced dataset into imbalanced dataset"
      ],
      "metadata": {
        "id": "XAXfg9l1fxbv"
      }
    },
    {
      "cell_type": "code",
      "source": [
        "Greek=df[df['Language']=='Greek']"
      ],
      "metadata": {
        "id": "znLE0R7gf97H"
      },
      "execution_count": null,
      "outputs": []
    },
    {
      "cell_type": "code",
      "source": [
        "English=df[df['Language']=='English']\n",
        "greek=df[df['Language']=='Greek']\n",
        "russian=df[df['Language']=='Russian']\n",
        "spanish=df[df['Language']=='Spanish']\n",
        "french=df[df['Language']=='French']\n",
        "italian=df[df['Language']=='Italian']\n",
        "german=df[df['Language']=='German']\n",
        "sweedish=df[df['Language']=='Sweedish']\n",
        "dutch=df[df['Language']=='Dutch']\n",
        "portugeese=df[df['Language']=='Portugueese']\n",
        "Turkish=df[df['Language']=='Turkish']\n",
        "danish=df[df['Language']=='Danish']"
      ],
      "metadata": {
        "id": "gmHETd5jgghb"
      },
      "execution_count": null,
      "outputs": []
    },
    {
      "cell_type": "code",
      "source": [
        "from sklearn.utils import resample #for downsampling we use resample from skearn"
      ],
      "metadata": {
        "id": "mS8oDrPBhHY1"
      },
      "execution_count": null,
      "outputs": []
    },
    {
      "cell_type": "code",
      "source": [
        "english_downsample=resample(English,\n",
        "                            replace=True,\n",
        "                            n_samples=len(Greek),\n",
        "                            random_state=42)\n",
        "greek_downsample=resample(Greek,\n",
        "                              replace=True,\n",
        "                              n_samples=len(Greek),\n",
        "                              random_state=42)\n",
        "russian_downsample=resample(russian,\n",
        "                              replace=True,\n",
        "                              n_samples=len(Greek),\n",
        "                              random_state=42)\n",
        "spanish_downsample=resample(spanish,\n",
        "                              replace=True,\n",
        "                              n_samples=len(Greek),\n",
        "                              random_state=42)\n",
        "french_downsample=resample(french,\n",
        "                              replace=True,\n",
        "                              n_samples=len(Greek),\n",
        "                              random_state=42)\n",
        "italian_downsample=resample(italian,\n",
        "                              replace=True,\n",
        "                              n_samples=len(Greek),\n",
        "                              random_state=42)\n",
        "german_downsample=resample(german,\n",
        "                              replace=True,\n",
        "                              n_samples=len(Greek),\n",
        "                              random_state=42)\n",
        "sweedish_downsample=resample(sweedish,\n",
        "                              replace=True,\n",
        "                              n_samples=len(Greek),\n",
        "                              random_state=42)\n",
        "dutch_downsample=resample(dutch,\n",
        "                              replace=True,\n",
        "                              n_samples=len(Greek),\n",
        "                              random_state=42)\n",
        "Turkish_downsample=resample(Turkish,\n",
        "                              replace=True,\n",
        "                              n_samples=len(Greek),\n",
        "                              random_state=37)\n",
        "\n"
      ],
      "metadata": {
        "id": "hlKbVNt1hfaA"
      },
      "execution_count": null,
      "outputs": []
    },
    {
      "cell_type": "code",
      "source": [
        "data_downsample=pd.concat([english_downsample\n",
        "                           ,greek_downsample,\n",
        "                           russian_downsample,\n",
        "                           spanish_downsample,\n",
        "                           french_downsample,\n",
        "                           italian_downsample,\n",
        "                           german_downsample,\n",
        "                           sweedish_downsample,\n",
        "                           dutch_downsample,\n",
        "                           Turkish_downsample,\n",
        "                           Greek\n",
        "])"
      ],
      "metadata": {
        "id": "kFPopyi9sSGJ"
      },
      "execution_count": null,
      "outputs": []
    },
    {
      "cell_type": "code",
      "source": [
        "data_downsample.head()"
      ],
      "metadata": {
        "colab": {
          "base_uri": "https://localhost:8080/",
          "height": 206
        },
        "id": "LpHByw7OvZd3",
        "outputId": "de212b34-33ad-46e8-8302-96b3b052b5d4"
      },
      "execution_count": null,
      "outputs": [
        {
          "output_type": "execute_result",
          "data": {
            "text/plain": [
              "                                                   Text Language\n",
              "1126  no worries imagine you came home and there are...  English\n",
              "860   Due to its generality, the field is studied in...  English\n",
              "1294                   unfortunately, i have to say no.  English\n",
              "1130  if you ask somebody not to be upset not to cry...  English\n",
              "1095  so if you are just about to embark on your jou...  English"
            ],
            "text/html": [
              "\n",
              "  <div id=\"df-289a6f53-3834-4858-b46b-b86e2c69ac72\" class=\"colab-df-container\">\n",
              "    <div>\n",
              "<style scoped>\n",
              "    .dataframe tbody tr th:only-of-type {\n",
              "        vertical-align: middle;\n",
              "    }\n",
              "\n",
              "    .dataframe tbody tr th {\n",
              "        vertical-align: top;\n",
              "    }\n",
              "\n",
              "    .dataframe thead th {\n",
              "        text-align: right;\n",
              "    }\n",
              "</style>\n",
              "<table border=\"1\" class=\"dataframe\">\n",
              "  <thead>\n",
              "    <tr style=\"text-align: right;\">\n",
              "      <th></th>\n",
              "      <th>Text</th>\n",
              "      <th>Language</th>\n",
              "    </tr>\n",
              "  </thead>\n",
              "  <tbody>\n",
              "    <tr>\n",
              "      <th>1126</th>\n",
              "      <td>no worries imagine you came home and there are...</td>\n",
              "      <td>English</td>\n",
              "    </tr>\n",
              "    <tr>\n",
              "      <th>860</th>\n",
              "      <td>Due to its generality, the field is studied in...</td>\n",
              "      <td>English</td>\n",
              "    </tr>\n",
              "    <tr>\n",
              "      <th>1294</th>\n",
              "      <td>unfortunately, i have to say no.</td>\n",
              "      <td>English</td>\n",
              "    </tr>\n",
              "    <tr>\n",
              "      <th>1130</th>\n",
              "      <td>if you ask somebody not to be upset not to cry...</td>\n",
              "      <td>English</td>\n",
              "    </tr>\n",
              "    <tr>\n",
              "      <th>1095</th>\n",
              "      <td>so if you are just about to embark on your jou...</td>\n",
              "      <td>English</td>\n",
              "    </tr>\n",
              "  </tbody>\n",
              "</table>\n",
              "</div>\n",
              "    <div class=\"colab-df-buttons\">\n",
              "\n",
              "  <div class=\"colab-df-container\">\n",
              "    <button class=\"colab-df-convert\" onclick=\"convertToInteractive('df-289a6f53-3834-4858-b46b-b86e2c69ac72')\"\n",
              "            title=\"Convert this dataframe to an interactive table.\"\n",
              "            style=\"display:none;\">\n",
              "\n",
              "  <svg xmlns=\"http://www.w3.org/2000/svg\" height=\"24px\" viewBox=\"0 -960 960 960\">\n",
              "    <path d=\"M120-120v-720h720v720H120Zm60-500h600v-160H180v160Zm220 220h160v-160H400v160Zm0 220h160v-160H400v160ZM180-400h160v-160H180v160Zm440 0h160v-160H620v160ZM180-180h160v-160H180v160Zm440 0h160v-160H620v160Z\"/>\n",
              "  </svg>\n",
              "    </button>\n",
              "\n",
              "  <style>\n",
              "    .colab-df-container {\n",
              "      display:flex;\n",
              "      gap: 12px;\n",
              "    }\n",
              "\n",
              "    .colab-df-convert {\n",
              "      background-color: #E8F0FE;\n",
              "      border: none;\n",
              "      border-radius: 50%;\n",
              "      cursor: pointer;\n",
              "      display: none;\n",
              "      fill: #1967D2;\n",
              "      height: 32px;\n",
              "      padding: 0 0 0 0;\n",
              "      width: 32px;\n",
              "    }\n",
              "\n",
              "    .colab-df-convert:hover {\n",
              "      background-color: #E2EBFA;\n",
              "      box-shadow: 0px 1px 2px rgba(60, 64, 67, 0.3), 0px 1px 3px 1px rgba(60, 64, 67, 0.15);\n",
              "      fill: #174EA6;\n",
              "    }\n",
              "\n",
              "    .colab-df-buttons div {\n",
              "      margin-bottom: 4px;\n",
              "    }\n",
              "\n",
              "    [theme=dark] .colab-df-convert {\n",
              "      background-color: #3B4455;\n",
              "      fill: #D2E3FC;\n",
              "    }\n",
              "\n",
              "    [theme=dark] .colab-df-convert:hover {\n",
              "      background-color: #434B5C;\n",
              "      box-shadow: 0px 1px 3px 1px rgba(0, 0, 0, 0.15);\n",
              "      filter: drop-shadow(0px 1px 2px rgba(0, 0, 0, 0.3));\n",
              "      fill: #FFFFFF;\n",
              "    }\n",
              "  </style>\n",
              "\n",
              "    <script>\n",
              "      const buttonEl =\n",
              "        document.querySelector('#df-289a6f53-3834-4858-b46b-b86e2c69ac72 button.colab-df-convert');\n",
              "      buttonEl.style.display =\n",
              "        google.colab.kernel.accessAllowed ? 'block' : 'none';\n",
              "\n",
              "      async function convertToInteractive(key) {\n",
              "        const element = document.querySelector('#df-289a6f53-3834-4858-b46b-b86e2c69ac72');\n",
              "        const dataTable =\n",
              "          await google.colab.kernel.invokeFunction('convertToInteractive',\n",
              "                                                    [key], {});\n",
              "        if (!dataTable) return;\n",
              "\n",
              "        const docLinkHtml = 'Like what you see? Visit the ' +\n",
              "          '<a target=\"_blank\" href=https://colab.research.google.com/notebooks/data_table.ipynb>data table notebook</a>'\n",
              "          + ' to learn more about interactive tables.';\n",
              "        element.innerHTML = '';\n",
              "        dataTable['output_type'] = 'display_data';\n",
              "        await google.colab.output.renderOutput(dataTable, element);\n",
              "        const docLink = document.createElement('div');\n",
              "        docLink.innerHTML = docLinkHtml;\n",
              "        element.appendChild(docLink);\n",
              "      }\n",
              "    </script>\n",
              "  </div>\n",
              "\n",
              "\n",
              "<div id=\"df-cf5bf006-e67b-4154-b73a-dbc012c9c63b\">\n",
              "  <button class=\"colab-df-quickchart\" onclick=\"quickchart('df-cf5bf006-e67b-4154-b73a-dbc012c9c63b')\"\n",
              "            title=\"Suggest charts\"\n",
              "            style=\"display:none;\">\n",
              "\n",
              "<svg xmlns=\"http://www.w3.org/2000/svg\" height=\"24px\"viewBox=\"0 0 24 24\"\n",
              "     width=\"24px\">\n",
              "    <g>\n",
              "        <path d=\"M19 3H5c-1.1 0-2 .9-2 2v14c0 1.1.9 2 2 2h14c1.1 0 2-.9 2-2V5c0-1.1-.9-2-2-2zM9 17H7v-7h2v7zm4 0h-2V7h2v10zm4 0h-2v-4h2v4z\"/>\n",
              "    </g>\n",
              "</svg>\n",
              "  </button>\n",
              "\n",
              "<style>\n",
              "  .colab-df-quickchart {\n",
              "      --bg-color: #E8F0FE;\n",
              "      --fill-color: #1967D2;\n",
              "      --hover-bg-color: #E2EBFA;\n",
              "      --hover-fill-color: #174EA6;\n",
              "      --disabled-fill-color: #AAA;\n",
              "      --disabled-bg-color: #DDD;\n",
              "  }\n",
              "\n",
              "  [theme=dark] .colab-df-quickchart {\n",
              "      --bg-color: #3B4455;\n",
              "      --fill-color: #D2E3FC;\n",
              "      --hover-bg-color: #434B5C;\n",
              "      --hover-fill-color: #FFFFFF;\n",
              "      --disabled-bg-color: #3B4455;\n",
              "      --disabled-fill-color: #666;\n",
              "  }\n",
              "\n",
              "  .colab-df-quickchart {\n",
              "    background-color: var(--bg-color);\n",
              "    border: none;\n",
              "    border-radius: 50%;\n",
              "    cursor: pointer;\n",
              "    display: none;\n",
              "    fill: var(--fill-color);\n",
              "    height: 32px;\n",
              "    padding: 0;\n",
              "    width: 32px;\n",
              "  }\n",
              "\n",
              "  .colab-df-quickchart:hover {\n",
              "    background-color: var(--hover-bg-color);\n",
              "    box-shadow: 0 1px 2px rgba(60, 64, 67, 0.3), 0 1px 3px 1px rgba(60, 64, 67, 0.15);\n",
              "    fill: var(--button-hover-fill-color);\n",
              "  }\n",
              "\n",
              "  .colab-df-quickchart-complete:disabled,\n",
              "  .colab-df-quickchart-complete:disabled:hover {\n",
              "    background-color: var(--disabled-bg-color);\n",
              "    fill: var(--disabled-fill-color);\n",
              "    box-shadow: none;\n",
              "  }\n",
              "\n",
              "  .colab-df-spinner {\n",
              "    border: 2px solid var(--fill-color);\n",
              "    border-color: transparent;\n",
              "    border-bottom-color: var(--fill-color);\n",
              "    animation:\n",
              "      spin 1s steps(1) infinite;\n",
              "  }\n",
              "\n",
              "  @keyframes spin {\n",
              "    0% {\n",
              "      border-color: transparent;\n",
              "      border-bottom-color: var(--fill-color);\n",
              "      border-left-color: var(--fill-color);\n",
              "    }\n",
              "    20% {\n",
              "      border-color: transparent;\n",
              "      border-left-color: var(--fill-color);\n",
              "      border-top-color: var(--fill-color);\n",
              "    }\n",
              "    30% {\n",
              "      border-color: transparent;\n",
              "      border-left-color: var(--fill-color);\n",
              "      border-top-color: var(--fill-color);\n",
              "      border-right-color: var(--fill-color);\n",
              "    }\n",
              "    40% {\n",
              "      border-color: transparent;\n",
              "      border-right-color: var(--fill-color);\n",
              "      border-top-color: var(--fill-color);\n",
              "    }\n",
              "    60% {\n",
              "      border-color: transparent;\n",
              "      border-right-color: var(--fill-color);\n",
              "    }\n",
              "    80% {\n",
              "      border-color: transparent;\n",
              "      border-right-color: var(--fill-color);\n",
              "      border-bottom-color: var(--fill-color);\n",
              "    }\n",
              "    90% {\n",
              "      border-color: transparent;\n",
              "      border-bottom-color: var(--fill-color);\n",
              "    }\n",
              "  }\n",
              "</style>\n",
              "\n",
              "  <script>\n",
              "    async function quickchart(key) {\n",
              "      const quickchartButtonEl =\n",
              "        document.querySelector('#' + key + ' button');\n",
              "      quickchartButtonEl.disabled = true;  // To prevent multiple clicks.\n",
              "      quickchartButtonEl.classList.add('colab-df-spinner');\n",
              "      try {\n",
              "        const charts = await google.colab.kernel.invokeFunction(\n",
              "            'suggestCharts', [key], {});\n",
              "      } catch (error) {\n",
              "        console.error('Error during call to suggestCharts:', error);\n",
              "      }\n",
              "      quickchartButtonEl.classList.remove('colab-df-spinner');\n",
              "      quickchartButtonEl.classList.add('colab-df-quickchart-complete');\n",
              "    }\n",
              "    (() => {\n",
              "      let quickchartButtonEl =\n",
              "        document.querySelector('#df-cf5bf006-e67b-4154-b73a-dbc012c9c63b button');\n",
              "      quickchartButtonEl.style.display =\n",
              "        google.colab.kernel.accessAllowed ? 'block' : 'none';\n",
              "    })();\n",
              "  </script>\n",
              "</div>\n",
              "\n",
              "    </div>\n",
              "  </div>\n"
            ],
            "application/vnd.google.colaboratory.intrinsic+json": {
              "type": "dataframe",
              "variable_name": "data_downsample",
              "summary": "{\n  \"name\": \"data_downsample\",\n  \"rows\": 4015,\n  \"fields\": [\n    {\n      \"column\": \"Text\",\n      \"properties\": {\n        \"dtype\": \"string\",\n        \"num_unique_values\": 2799,\n        \"samples\": [\n          \"disons que vous avez beaucoup de devoirs et que vous avez un test \\u00e0 venir et que vos amis viennent vous voir et disent.\",\n          \"\\u041a \\u043e\\u043a\\u0442\\u044f\\u0431\\u0440\\u044e 2009 \\u0433\\u043e\\u0434\\u0430 \\u0440\\u0443\\u0441\\u0441\\u043a\\u0430\\u044f \\u0412\\u0438\\u043a\\u0438\\u043f\\u0435\\u0434\\u0438\\u044f \\u0432\\u044b\\u0448\\u043b\\u0430 \\u043d\\u0430 5-\\u044e \\u043f\\u043e\\u0437\\u0438\\u0446\\u0438\\u044e \\u0432 \\u0441\\u043f\\u0438\\u0441\\u043a\\u0435 \\u043f\\u043e\\u0441\\u0435\\u0449\\u0430\\u0435\\u043c\\u043e\\u0441\\u0442\\u0438.\",\n          \"catch-22 kelimesini kullanmak i\\u00e7in.\"\n        ],\n        \"semantic_type\": \"\",\n        \"description\": \"\"\n      }\n    },\n    {\n      \"column\": \"Language\",\n      \"properties\": {\n        \"dtype\": \"category\",\n        \"num_unique_values\": 10,\n        \"samples\": [\n          \"Dutch\",\n          \"Greek\",\n          \"Italian\"\n        ],\n        \"semantic_type\": \"\",\n        \"description\": \"\"\n      }\n    }\n  ]\n}"
            }
          },
          "metadata": {},
          "execution_count": 70
        }
      ]
    },
    {
      "cell_type": "code",
      "source": [
        "data_downsample['Language'].value_counts()"
      ],
      "metadata": {
        "colab": {
          "base_uri": "https://localhost:8080/",
          "height": 429
        },
        "id": "P2OqnE6xvpjq",
        "outputId": "6d97518f-d5bf-42d1-9362-14206d5aabd4"
      },
      "execution_count": null,
      "outputs": [
        {
          "output_type": "execute_result",
          "data": {
            "text/plain": [
              "Language\n",
              "Greek       730\n",
              "English     365\n",
              "Russian     365\n",
              "Spanish     365\n",
              "French      365\n",
              "Italian     365\n",
              "German      365\n",
              "Sweedish    365\n",
              "Dutch       365\n",
              "Turkish     365\n",
              "Name: count, dtype: int64"
            ],
            "text/html": [
              "<div>\n",
              "<style scoped>\n",
              "    .dataframe tbody tr th:only-of-type {\n",
              "        vertical-align: middle;\n",
              "    }\n",
              "\n",
              "    .dataframe tbody tr th {\n",
              "        vertical-align: top;\n",
              "    }\n",
              "\n",
              "    .dataframe thead th {\n",
              "        text-align: right;\n",
              "    }\n",
              "</style>\n",
              "<table border=\"1\" class=\"dataframe\">\n",
              "  <thead>\n",
              "    <tr style=\"text-align: right;\">\n",
              "      <th></th>\n",
              "      <th>count</th>\n",
              "    </tr>\n",
              "    <tr>\n",
              "      <th>Language</th>\n",
              "      <th></th>\n",
              "    </tr>\n",
              "  </thead>\n",
              "  <tbody>\n",
              "    <tr>\n",
              "      <th>Greek</th>\n",
              "      <td>730</td>\n",
              "    </tr>\n",
              "    <tr>\n",
              "      <th>English</th>\n",
              "      <td>365</td>\n",
              "    </tr>\n",
              "    <tr>\n",
              "      <th>Russian</th>\n",
              "      <td>365</td>\n",
              "    </tr>\n",
              "    <tr>\n",
              "      <th>Spanish</th>\n",
              "      <td>365</td>\n",
              "    </tr>\n",
              "    <tr>\n",
              "      <th>French</th>\n",
              "      <td>365</td>\n",
              "    </tr>\n",
              "    <tr>\n",
              "      <th>Italian</th>\n",
              "      <td>365</td>\n",
              "    </tr>\n",
              "    <tr>\n",
              "      <th>German</th>\n",
              "      <td>365</td>\n",
              "    </tr>\n",
              "    <tr>\n",
              "      <th>Sweedish</th>\n",
              "      <td>365</td>\n",
              "    </tr>\n",
              "    <tr>\n",
              "      <th>Dutch</th>\n",
              "      <td>365</td>\n",
              "    </tr>\n",
              "    <tr>\n",
              "      <th>Turkish</th>\n",
              "      <td>365</td>\n",
              "    </tr>\n",
              "  </tbody>\n",
              "</table>\n",
              "</div><br><label><b>dtype:</b> int64</label>"
            ]
          },
          "metadata": {},
          "execution_count": 71
        }
      ]
    },
    {
      "cell_type": "code",
      "source": [
        "def clean(text):\n",
        "    text=text.lower()\n",
        "    text=re.sub(r'[$!@%^&*]',\" \",text)\n",
        "    text=regexp.tokenize(text)\n",
        "    text=[word for word in text if word not in stopwords]\n",
        "    return \" \".join(text)\n",
        "    return text"
      ],
      "metadata": {
        "id": "4HY0pIjszdy7"
      },
      "execution_count": null,
      "outputs": []
    },
    {
      "cell_type": "code",
      "source": [
        "data_downsample['clean_Text']=data_downsample['Text'].apply(clean)"
      ],
      "metadata": {
        "id": "EWZrpsV80CVn"
      },
      "execution_count": null,
      "outputs": []
    },
    {
      "cell_type": "code",
      "source": [
        "data_downsample.head()"
      ],
      "metadata": {
        "colab": {
          "base_uri": "https://localhost:8080/",
          "height": 206
        },
        "id": "wDsVqcej0M5Y",
        "outputId": "aee90799-5c5e-46f9-d4c4-f6014f4b1bda"
      },
      "execution_count": null,
      "outputs": [
        {
          "output_type": "execute_result",
          "data": {
            "text/plain": [
              "                                                   Text Language  \\\n",
              "1126  no worries imagine you came home and there are...  English   \n",
              "860   Due to its generality, the field is studied in...  English   \n",
              "1294                   unfortunately, i have to say no.  English   \n",
              "1130  if you ask somebody not to be upset not to cry...  English   \n",
              "1095  so if you are just about to embark on your jou...  English   \n",
              "\n",
              "                                             clean_Text  \n",
              "1126    worries imagine came home friends sitting couch  \n",
              "860   due generality field studied many disciplines ...  \n",
              "1294                                  unfortunately say  \n",
              "1130              ask somebody upset cry say take heart  \n",
              "1095                                     embark journey  "
            ],
            "text/html": [
              "\n",
              "  <div id=\"df-5a8ba3aa-77c9-4c0d-b8f8-51d539f8cb6f\" class=\"colab-df-container\">\n",
              "    <div>\n",
              "<style scoped>\n",
              "    .dataframe tbody tr th:only-of-type {\n",
              "        vertical-align: middle;\n",
              "    }\n",
              "\n",
              "    .dataframe tbody tr th {\n",
              "        vertical-align: top;\n",
              "    }\n",
              "\n",
              "    .dataframe thead th {\n",
              "        text-align: right;\n",
              "    }\n",
              "</style>\n",
              "<table border=\"1\" class=\"dataframe\">\n",
              "  <thead>\n",
              "    <tr style=\"text-align: right;\">\n",
              "      <th></th>\n",
              "      <th>Text</th>\n",
              "      <th>Language</th>\n",
              "      <th>clean_Text</th>\n",
              "    </tr>\n",
              "  </thead>\n",
              "  <tbody>\n",
              "    <tr>\n",
              "      <th>1126</th>\n",
              "      <td>no worries imagine you came home and there are...</td>\n",
              "      <td>English</td>\n",
              "      <td>worries imagine came home friends sitting couch</td>\n",
              "    </tr>\n",
              "    <tr>\n",
              "      <th>860</th>\n",
              "      <td>Due to its generality, the field is studied in...</td>\n",
              "      <td>English</td>\n",
              "      <td>due generality field studied many disciplines ...</td>\n",
              "    </tr>\n",
              "    <tr>\n",
              "      <th>1294</th>\n",
              "      <td>unfortunately, i have to say no.</td>\n",
              "      <td>English</td>\n",
              "      <td>unfortunately say</td>\n",
              "    </tr>\n",
              "    <tr>\n",
              "      <th>1130</th>\n",
              "      <td>if you ask somebody not to be upset not to cry...</td>\n",
              "      <td>English</td>\n",
              "      <td>ask somebody upset cry say take heart</td>\n",
              "    </tr>\n",
              "    <tr>\n",
              "      <th>1095</th>\n",
              "      <td>so if you are just about to embark on your jou...</td>\n",
              "      <td>English</td>\n",
              "      <td>embark journey</td>\n",
              "    </tr>\n",
              "  </tbody>\n",
              "</table>\n",
              "</div>\n",
              "    <div class=\"colab-df-buttons\">\n",
              "\n",
              "  <div class=\"colab-df-container\">\n",
              "    <button class=\"colab-df-convert\" onclick=\"convertToInteractive('df-5a8ba3aa-77c9-4c0d-b8f8-51d539f8cb6f')\"\n",
              "            title=\"Convert this dataframe to an interactive table.\"\n",
              "            style=\"display:none;\">\n",
              "\n",
              "  <svg xmlns=\"http://www.w3.org/2000/svg\" height=\"24px\" viewBox=\"0 -960 960 960\">\n",
              "    <path d=\"M120-120v-720h720v720H120Zm60-500h600v-160H180v160Zm220 220h160v-160H400v160Zm0 220h160v-160H400v160ZM180-400h160v-160H180v160Zm440 0h160v-160H620v160ZM180-180h160v-160H180v160Zm440 0h160v-160H620v160Z\"/>\n",
              "  </svg>\n",
              "    </button>\n",
              "\n",
              "  <style>\n",
              "    .colab-df-container {\n",
              "      display:flex;\n",
              "      gap: 12px;\n",
              "    }\n",
              "\n",
              "    .colab-df-convert {\n",
              "      background-color: #E8F0FE;\n",
              "      border: none;\n",
              "      border-radius: 50%;\n",
              "      cursor: pointer;\n",
              "      display: none;\n",
              "      fill: #1967D2;\n",
              "      height: 32px;\n",
              "      padding: 0 0 0 0;\n",
              "      width: 32px;\n",
              "    }\n",
              "\n",
              "    .colab-df-convert:hover {\n",
              "      background-color: #E2EBFA;\n",
              "      box-shadow: 0px 1px 2px rgba(60, 64, 67, 0.3), 0px 1px 3px 1px rgba(60, 64, 67, 0.15);\n",
              "      fill: #174EA6;\n",
              "    }\n",
              "\n",
              "    .colab-df-buttons div {\n",
              "      margin-bottom: 4px;\n",
              "    }\n",
              "\n",
              "    [theme=dark] .colab-df-convert {\n",
              "      background-color: #3B4455;\n",
              "      fill: #D2E3FC;\n",
              "    }\n",
              "\n",
              "    [theme=dark] .colab-df-convert:hover {\n",
              "      background-color: #434B5C;\n",
              "      box-shadow: 0px 1px 3px 1px rgba(0, 0, 0, 0.15);\n",
              "      filter: drop-shadow(0px 1px 2px rgba(0, 0, 0, 0.3));\n",
              "      fill: #FFFFFF;\n",
              "    }\n",
              "  </style>\n",
              "\n",
              "    <script>\n",
              "      const buttonEl =\n",
              "        document.querySelector('#df-5a8ba3aa-77c9-4c0d-b8f8-51d539f8cb6f button.colab-df-convert');\n",
              "      buttonEl.style.display =\n",
              "        google.colab.kernel.accessAllowed ? 'block' : 'none';\n",
              "\n",
              "      async function convertToInteractive(key) {\n",
              "        const element = document.querySelector('#df-5a8ba3aa-77c9-4c0d-b8f8-51d539f8cb6f');\n",
              "        const dataTable =\n",
              "          await google.colab.kernel.invokeFunction('convertToInteractive',\n",
              "                                                    [key], {});\n",
              "        if (!dataTable) return;\n",
              "\n",
              "        const docLinkHtml = 'Like what you see? Visit the ' +\n",
              "          '<a target=\"_blank\" href=https://colab.research.google.com/notebooks/data_table.ipynb>data table notebook</a>'\n",
              "          + ' to learn more about interactive tables.';\n",
              "        element.innerHTML = '';\n",
              "        dataTable['output_type'] = 'display_data';\n",
              "        await google.colab.output.renderOutput(dataTable, element);\n",
              "        const docLink = document.createElement('div');\n",
              "        docLink.innerHTML = docLinkHtml;\n",
              "        element.appendChild(docLink);\n",
              "      }\n",
              "    </script>\n",
              "  </div>\n",
              "\n",
              "\n",
              "<div id=\"df-340fa5d3-9ab2-4a2a-8a99-9cc56497f036\">\n",
              "  <button class=\"colab-df-quickchart\" onclick=\"quickchart('df-340fa5d3-9ab2-4a2a-8a99-9cc56497f036')\"\n",
              "            title=\"Suggest charts\"\n",
              "            style=\"display:none;\">\n",
              "\n",
              "<svg xmlns=\"http://www.w3.org/2000/svg\" height=\"24px\"viewBox=\"0 0 24 24\"\n",
              "     width=\"24px\">\n",
              "    <g>\n",
              "        <path d=\"M19 3H5c-1.1 0-2 .9-2 2v14c0 1.1.9 2 2 2h14c1.1 0 2-.9 2-2V5c0-1.1-.9-2-2-2zM9 17H7v-7h2v7zm4 0h-2V7h2v10zm4 0h-2v-4h2v4z\"/>\n",
              "    </g>\n",
              "</svg>\n",
              "  </button>\n",
              "\n",
              "<style>\n",
              "  .colab-df-quickchart {\n",
              "      --bg-color: #E8F0FE;\n",
              "      --fill-color: #1967D2;\n",
              "      --hover-bg-color: #E2EBFA;\n",
              "      --hover-fill-color: #174EA6;\n",
              "      --disabled-fill-color: #AAA;\n",
              "      --disabled-bg-color: #DDD;\n",
              "  }\n",
              "\n",
              "  [theme=dark] .colab-df-quickchart {\n",
              "      --bg-color: #3B4455;\n",
              "      --fill-color: #D2E3FC;\n",
              "      --hover-bg-color: #434B5C;\n",
              "      --hover-fill-color: #FFFFFF;\n",
              "      --disabled-bg-color: #3B4455;\n",
              "      --disabled-fill-color: #666;\n",
              "  }\n",
              "\n",
              "  .colab-df-quickchart {\n",
              "    background-color: var(--bg-color);\n",
              "    border: none;\n",
              "    border-radius: 50%;\n",
              "    cursor: pointer;\n",
              "    display: none;\n",
              "    fill: var(--fill-color);\n",
              "    height: 32px;\n",
              "    padding: 0;\n",
              "    width: 32px;\n",
              "  }\n",
              "\n",
              "  .colab-df-quickchart:hover {\n",
              "    background-color: var(--hover-bg-color);\n",
              "    box-shadow: 0 1px 2px rgba(60, 64, 67, 0.3), 0 1px 3px 1px rgba(60, 64, 67, 0.15);\n",
              "    fill: var(--button-hover-fill-color);\n",
              "  }\n",
              "\n",
              "  .colab-df-quickchart-complete:disabled,\n",
              "  .colab-df-quickchart-complete:disabled:hover {\n",
              "    background-color: var(--disabled-bg-color);\n",
              "    fill: var(--disabled-fill-color);\n",
              "    box-shadow: none;\n",
              "  }\n",
              "\n",
              "  .colab-df-spinner {\n",
              "    border: 2px solid var(--fill-color);\n",
              "    border-color: transparent;\n",
              "    border-bottom-color: var(--fill-color);\n",
              "    animation:\n",
              "      spin 1s steps(1) infinite;\n",
              "  }\n",
              "\n",
              "  @keyframes spin {\n",
              "    0% {\n",
              "      border-color: transparent;\n",
              "      border-bottom-color: var(--fill-color);\n",
              "      border-left-color: var(--fill-color);\n",
              "    }\n",
              "    20% {\n",
              "      border-color: transparent;\n",
              "      border-left-color: var(--fill-color);\n",
              "      border-top-color: var(--fill-color);\n",
              "    }\n",
              "    30% {\n",
              "      border-color: transparent;\n",
              "      border-left-color: var(--fill-color);\n",
              "      border-top-color: var(--fill-color);\n",
              "      border-right-color: var(--fill-color);\n",
              "    }\n",
              "    40% {\n",
              "      border-color: transparent;\n",
              "      border-right-color: var(--fill-color);\n",
              "      border-top-color: var(--fill-color);\n",
              "    }\n",
              "    60% {\n",
              "      border-color: transparent;\n",
              "      border-right-color: var(--fill-color);\n",
              "    }\n",
              "    80% {\n",
              "      border-color: transparent;\n",
              "      border-right-color: var(--fill-color);\n",
              "      border-bottom-color: var(--fill-color);\n",
              "    }\n",
              "    90% {\n",
              "      border-color: transparent;\n",
              "      border-bottom-color: var(--fill-color);\n",
              "    }\n",
              "  }\n",
              "</style>\n",
              "\n",
              "  <script>\n",
              "    async function quickchart(key) {\n",
              "      const quickchartButtonEl =\n",
              "        document.querySelector('#' + key + ' button');\n",
              "      quickchartButtonEl.disabled = true;  // To prevent multiple clicks.\n",
              "      quickchartButtonEl.classList.add('colab-df-spinner');\n",
              "      try {\n",
              "        const charts = await google.colab.kernel.invokeFunction(\n",
              "            'suggestCharts', [key], {});\n",
              "      } catch (error) {\n",
              "        console.error('Error during call to suggestCharts:', error);\n",
              "      }\n",
              "      quickchartButtonEl.classList.remove('colab-df-spinner');\n",
              "      quickchartButtonEl.classList.add('colab-df-quickchart-complete');\n",
              "    }\n",
              "    (() => {\n",
              "      let quickchartButtonEl =\n",
              "        document.querySelector('#df-340fa5d3-9ab2-4a2a-8a99-9cc56497f036 button');\n",
              "      quickchartButtonEl.style.display =\n",
              "        google.colab.kernel.accessAllowed ? 'block' : 'none';\n",
              "    })();\n",
              "  </script>\n",
              "</div>\n",
              "\n",
              "    </div>\n",
              "  </div>\n"
            ],
            "application/vnd.google.colaboratory.intrinsic+json": {
              "type": "dataframe",
              "variable_name": "data_downsample",
              "summary": "{\n  \"name\": \"data_downsample\",\n  \"rows\": 4015,\n  \"fields\": [\n    {\n      \"column\": \"Text\",\n      \"properties\": {\n        \"dtype\": \"string\",\n        \"num_unique_values\": 2799,\n        \"samples\": [\n          \"disons que vous avez beaucoup de devoirs et que vous avez un test \\u00e0 venir et que vos amis viennent vous voir et disent.\",\n          \"\\u041a \\u043e\\u043a\\u0442\\u044f\\u0431\\u0440\\u044e 2009 \\u0433\\u043e\\u0434\\u0430 \\u0440\\u0443\\u0441\\u0441\\u043a\\u0430\\u044f \\u0412\\u0438\\u043a\\u0438\\u043f\\u0435\\u0434\\u0438\\u044f \\u0432\\u044b\\u0448\\u043b\\u0430 \\u043d\\u0430 5-\\u044e \\u043f\\u043e\\u0437\\u0438\\u0446\\u0438\\u044e \\u0432 \\u0441\\u043f\\u0438\\u0441\\u043a\\u0435 \\u043f\\u043e\\u0441\\u0435\\u0449\\u0430\\u0435\\u043c\\u043e\\u0441\\u0442\\u0438.\",\n          \"catch-22 kelimesini kullanmak i\\u00e7in.\"\n        ],\n        \"semantic_type\": \"\",\n        \"description\": \"\"\n      }\n    },\n    {\n      \"column\": \"Language\",\n      \"properties\": {\n        \"dtype\": \"category\",\n        \"num_unique_values\": 10,\n        \"samples\": [\n          \"Dutch\",\n          \"Greek\",\n          \"Italian\"\n        ],\n        \"semantic_type\": \"\",\n        \"description\": \"\"\n      }\n    },\n    {\n      \"column\": \"clean_Text\",\n      \"properties\": {\n        \"dtype\": \"string\",\n        \"num_unique_values\": 2795,\n        \"samples\": [\n          \"tengo que irme\",\n          \"amerika da birisine sms g\\u00f6ndermek veya onlara bir mesaj g\\u00f6ndermek istiyorsan\\u0131z metne metin s\\u00f6yl\\u00fcyorsunuz b\\u00f6ylece size mesaj g\\u00f6nderece\\u011fim size whatsapp veya bir telgraf veya ne kullansam kullanaca\\u011f\\u0131m bir mesaj g\\u00f6nderece\\u011fim anlam\\u0131na gelir\",\n          \"\\u03be\\u03ad\\u03c1\\u03c9\"\n        ],\n        \"semantic_type\": \"\",\n        \"description\": \"\"\n      }\n    }\n  ]\n}"
            }
          },
          "metadata": {},
          "execution_count": 76
        }
      ]
    },
    {
      "cell_type": "code",
      "source": [
        "x=data_downsample.iloc[:,2]\n",
        "y=data_downsample.iloc[:,1]"
      ],
      "metadata": {
        "id": "PCUSdDxh0nQo"
      },
      "execution_count": null,
      "outputs": []
    },
    {
      "cell_type": "markdown",
      "source": [
        "Bag of words is used to extract features from the text\n",
        "it generates frequency of each word in text\n",
        "countvectorizer is used to for implementing bag of words"
      ],
      "metadata": {
        "id": "Q9VJgYPK1n8I"
      }
    },
    {
      "cell_type": "code",
      "source": [
        "vectorizer1=CountVectorizer(ngram_range=(1,3),analyzer='char')\n",
        "x1=vectorizer1.fit_transform(x)\n",
        "x_train,x_test,y_train,y_test=train_test_split(x1,y,test_size=0.2,random_state=42) #createing train and test dataset"
      ],
      "metadata": {
        "id": "zjR4KhqK2ZeB"
      },
      "execution_count": null,
      "outputs": []
    },
    {
      "cell_type": "code",
      "source": [
        "model1=MultinomialNB()                             #Creating model\n",
        "model1.fit(x_train,y_train)\n",
        "model1.score(x_test,y_test)"
      ],
      "metadata": {
        "colab": {
          "base_uri": "https://localhost:8080/"
        },
        "id": "D560mM6L5ete",
        "outputId": "6fb0fcd0-c3bd-4401-d743-e58f4396311e"
      },
      "execution_count": null,
      "outputs": [
        {
          "output_type": "execute_result",
          "data": {
            "text/plain": [
              "0.9825653798256538"
            ]
          },
          "metadata": {},
          "execution_count": 82
        }
      ]
    },
    {
      "cell_type": "markdown",
      "source": [
        "Example:\n",
        "Nee dat kan ik niet. Ik zou niet eens weten waar te beginnen. Misschien kan ik naar een van de oudste zinnen in het Nederlands verwijzen, waarvan men nu denkt dat het Oud Engels was: “Hebban olla vogala nestas bagunnan, hinase ic enda thu. Wat unbidan we nu?” (11e eeuw)."
      ],
      "metadata": {
        "id": "9guIbDWR67s1"
      }
    },
    {
      "cell_type": "code",
      "source": [
        "user=input(\"Enter a Text: \")\n",
        "text=vectorizer1.transform([user]).toarray()               #n base model over training and testing\n",
        "output=model1.predict(text)\n",
        "print(output)"
      ],
      "metadata": {
        "colab": {
          "base_uri": "https://localhost:8080/"
        },
        "id": "4gOx_eDi7BRn",
        "outputId": "9631aba5-304c-4af3-f8f9-0152bc401186"
      },
      "execution_count": null,
      "outputs": [
        {
          "output_type": "stream",
          "name": "stdout",
          "text": [
            "Enter a Text: Nee dat kan ik niet. Ik zou niet eens weten waar te beginnen. Misschien kan ik naar een van de oudste zinnen in het Nederlands verwijzen, waarvan men nu denkt dat het Oud Engels was: “Hebban olla vogala nestas bagunnan, hinase ic enda thu. Wat unbidan we nu?” (11e eeuw).\n",
            "['Dutch']\n"
          ]
        }
      ]
    },
    {
      "cell_type": "code",
      "source": [
        "model2=LogisticRegression()\n",
        "model2.fit(x_train,y_train)                                  # LogisticRegression model\n",
        "model2.score(x_test,y_test)"
      ],
      "metadata": {
        "colab": {
          "base_uri": "https://localhost:8080/"
        },
        "id": "htqSS5Lf7g6d",
        "outputId": "a32b3a0e-5bc1-4d32-ad5b-03bd22fbdb31"
      },
      "execution_count": null,
      "outputs": [
        {
          "output_type": "execute_result",
          "data": {
            "text/plain": [
              "0.9825653798256538"
            ]
          },
          "metadata": {},
          "execution_count": 87
        }
      ]
    },
    {
      "cell_type": "markdown",
      "source": [
        "example:\n",
        "Три года назад я переехал в Москву по работе. Я родился в маленьком городе на севере России, где все друг друга знают, поэтому сначала никак не мог"
      ],
      "metadata": {
        "id": "Hhvo0uOj9wzu"
      }
    },
    {
      "cell_type": "code",
      "source": [
        "user=input(\"Enter a Text: \")\n",
        "text=vectorizer1.transform([user]).toarray()\n",
        "output=model2.predict(text)\n",
        "print(output)"
      ],
      "metadata": {
        "id": "RMOBpeLv96IY"
      },
      "execution_count": null,
      "outputs": []
    }
  ]
}